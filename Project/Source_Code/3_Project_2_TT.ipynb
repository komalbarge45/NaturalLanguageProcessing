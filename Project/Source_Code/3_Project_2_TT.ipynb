{
  "nbformat": 4,
  "nbformat_minor": 0,
  "metadata": {
    "colab": {
      "name": "NLP_Project_Final.ipynb",
      "provenance": [],
      "collapsed_sections": []
    },
    "kernelspec": {
      "name": "python3",
      "display_name": "Python 3"
    },
    "accelerator": "GPU"
  },
  "cells": [
    {
      "cell_type": "code",
      "metadata": {
        "id": "cQe8_detSKha",
        "colab_type": "code",
        "colab": {}
      },
      "source": [
        "# Import the numpy library to work with and manipulate the data\n",
        "import numpy as np\n",
        "\n",
        "# Import the pandas library to read our dataset\n",
        "import pandas as pd"
      ],
      "execution_count": 0,
      "outputs": []
    },
    {
      "cell_type": "code",
      "metadata": {
        "id": "gVmcRZ4dSpci",
        "colab_type": "code",
        "colab": {}
      },
      "source": [
        "# Summarized data\n",
        "summary = pd.read_csv('news_summary.csv', encoding='iso-8859-1')\n",
        "\n",
        "# Raw data for the respective news\n",
        "raw = pd.read_csv('news_summary_more.csv', encoding='iso-8859-1')"
      ],
      "execution_count": 0,
      "outputs": []
    },
    {
      "cell_type": "code",
      "metadata": {
        "id": "eR9kFltOXxXE",
        "colab_type": "code",
        "colab": {}
      },
      "source": [
        "# Take up the data in variables\n",
        "pre1 =  raw.iloc[:,0:2].copy()\n",
        "pre2 = summary.iloc[:,0:6].copy()\n",
        "\n",
        "# Concatenate the whole data in single column attribute\n",
        "pre2['text'] = pre2['author'].str.cat(pre2['date'].str.cat(pre2['read_more'].str.cat(pre2['text'].str.cat(pre2['ctext'], sep = \" \"), sep =\" \"),sep= \" \"), sep = \" \")"
      ],
      "execution_count": 0,
      "outputs": []
    },
    {
      "cell_type": "code",
      "metadata": {
        "id": "ZFYgOBs0X3ul",
        "colab_type": "code",
        "colab": {}
      },
      "source": [
        "pre = pd.DataFrame()\n",
        "\n",
        "# Concatenate text and summary in a single dataframe\n",
        "pre['text'] = pd.concat([pre1['text'], pre2['text']], ignore_index=True)\n",
        "pre['summary'] = pd.concat([pre1['headlines'],pre2['headlines']], ignore_index = True)"
      ],
      "execution_count": 0,
      "outputs": []
    },
    {
      "cell_type": "code",
      "metadata": {
        "id": "T6oP5qraX54l",
        "colab_type": "code",
        "colab": {}
      },
      "source": [
        "# Regular expressions library to preprocess the data\n",
        "import re\n",
        "\n",
        "#Removes non-alphabetic characters:\n",
        "def text_strip(column):\n",
        "  for sentRow in column:\n",
        "    # Remove the tab, carriage return, newline character respectively\n",
        "    sentRow=re.sub(\"(\\\\t)\", ' ', str(sentRow)).lower()\n",
        "    sentRow=re.sub(\"(\\\\r)\", ' ', str(sentRow)).lower() \n",
        "    sentRow=re.sub(\"(\\\\n)\", ' ', str(sentRow)).lower()\n",
        "\n",
        "    # Remove _-~+. if it occurs more than one consecutively\n",
        "    sentRow=re.sub(\"(__+)\", ' ', str(sentRow)).lower()\n",
        "    sentRow=re.sub(\"(--+)\", ' ', str(sentRow)).lower()\n",
        "    sentRow=re.sub(\"(~~+)\", ' ', str(sentRow)).lower()\n",
        "    sentRow=re.sub(\"(\\+\\++)\", ' ', str(sentRow)).lower() \n",
        "    sentRow=re.sub(\"(\\.\\.+)\", ' ', str(sentRow)).lower()\n",
        "\n",
        "    # Remove <>()|&©ø\"',;?~*!\n",
        "    sentRow=re.sub(r\"[<>()|&©ø\\[\\]\\'\\\",;?~*!]\", ' ', str(sentRow)).lower()\n",
        "    \n",
        "    # Remove mailto:, \\x9*, Replace INC nums to INC_NUM, CM# and CHG# to CM_NUM\n",
        "    sentRow=re.sub(\"(mailto:)\", ' ', str(sentRow)).lower()\n",
        "    sentRow=re.sub(r\"(\\\\x9\\d)\", ' ', str(sentRow)).lower()\n",
        "    sentRow=re.sub(\"([iI][nN][cC]\\d+)\", 'INC_NUM', str(sentRow)).lower()\n",
        "    sentRow=re.sub(\"([cC][mM]\\d+)|([cC][hH][gG]\\d+)\", 'CM_NUM', str(sentRow)).lower()\n",
        "    \n",
        "    # Remove .-: at the end of words\n",
        "    sentRow=re.sub(\"(\\.\\s+)\", ' ', str(sentRow)).lower()\n",
        "    sentRow=re.sub(\"(\\-\\s+)\", ' ', str(sentRow)).lower()\n",
        "    sentRow=re.sub(\"(\\:\\s+)\", ' ', str(sentRow)).lower()\n",
        "    \n",
        "    # Remove any single characters hanging between 2 spaces\n",
        "    sentRow=re.sub(\"(\\s+.\\s+)\", ' ', str(sentRow)).lower()\n",
        "    \n",
        "    # Replace any url as such http://pqr.abc.net/search/dep123 ====> pqr.abc.net\n",
        "    try:\n",
        "      url = re.search(r'((https*:\\/*)([^\\/\\s]+))(.[^\\s]+)', str(sentRow))\n",
        "      repl_url = url.group(3)\n",
        "      sentRow = re.sub(r'((https*:\\/*)([^\\/\\s]+))(.[^\\s]+)',repl_url, str(sentRow))\n",
        "    except:\n",
        "      pass #there may be some emails with no url in them\n",
        "\n",
        "    # Remove multiple spaces\n",
        "    sentRow = re.sub(\"(\\s+)\",' ',str(sentRow)).lower()\n",
        "    \n",
        "    # Remove any single charecters hanging between 2 spaces\n",
        "    sentRow=re.sub(\"(\\s+.\\s+)\", ' ', str(sentRow)).lower()\n",
        "\n",
        "    yield sentRow"
      ],
      "execution_count": 0,
      "outputs": []
    },
    {
      "cell_type": "code",
      "metadata": {
        "id": "A39j6PXnYDab",
        "colab_type": "code",
        "colab": {}
      },
      "source": [
        "# Data cleaninig and striping\n",
        "brief_cleaning1 = text_strip(pre['text'])\n",
        "brief_cleaning2 = text_strip(pre['summary'])"
      ],
      "execution_count": 0,
      "outputs": []
    },
    {
      "cell_type": "code",
      "metadata": {
        "id": "FK9lBTtCYFuk",
        "colab_type": "code",
        "colab": {
          "base_uri": "https://localhost:8080/",
          "height": 34
        },
        "outputId": "16c215c2-8919-4c87-b0df-e753a468b24d"
      },
      "source": [
        "from time import time\n",
        "import spacy\n",
        "\n",
        "# Disabling Named Entity Recognition for speed\n",
        "nlp = spacy.load('en', disable=['ner', 'parser'])\n",
        "\n",
        "#Taking advantage of spaCy .pipe() method to speed-up the cleaning process\n",
        "t = time()\n",
        "\n",
        "#Batch the data points into 5000 and run on all cores for faster preprocessing\n",
        "text = [str(doc) for doc in nlp.pipe(brief_cleaning1, batch_size=5000, n_threads=-1)]\n",
        "\n",
        "#Takes 5-6 mins\n",
        "print('Time to clean up everything: {} mins'.format(round((time() - t) / 60, 2)))"
      ],
      "execution_count": 7,
      "outputs": [
        {
          "output_type": "stream",
          "text": [
            "Time to clean up everything: 4.17 mins\n"
          ],
          "name": "stdout"
        }
      ]
    },
    {
      "cell_type": "code",
      "metadata": {
        "id": "wczJKoNaYH3J",
        "colab_type": "code",
        "colab": {
          "base_uri": "https://localhost:8080/",
          "height": 34
        },
        "outputId": "32e7528d-7f71-4226-efdd-88c6a6c48cd2"
      },
      "source": [
        "t = time()\n",
        "\n",
        "#Batch the data points into 5000 and run on all cores for faster preprocessing\n",
        "summary = ['_START_ '+ str(doc) + ' _END_' for doc in nlp.pipe(brief_cleaning2, batch_size=5000, n_threads=-1)]\n",
        "\n",
        "print('Time to clean up everything: {} mins'.format(round((time() - t) / 60, 2)))"
      ],
      "execution_count": 8,
      "outputs": [
        {
          "output_type": "stream",
          "text": [
            "Time to clean up everything: 0.74 mins\n"
          ],
          "name": "stdout"
        }
      ]
    },
    {
      "cell_type": "code",
      "metadata": {
        "id": "xpGXOsg-YKCP",
        "colab_type": "code",
        "colab": {}
      },
      "source": [
        "pre['cleaned_text'] = pd.Series(text)\n",
        "pre['cleaned_summary'] = pd.Series(summary)\n",
        "\n",
        "text_count = []\n",
        "summary_count = []"
      ],
      "execution_count": 0,
      "outputs": []
    },
    {
      "cell_type": "code",
      "metadata": {
        "id": "rUBsztvGYY8y",
        "colab_type": "code",
        "colab": {}
      },
      "source": [
        "# count the text and summary\n",
        "\n",
        "for sent in pre['cleaned_text']:\n",
        "    text_count.append(len(sent.split()))\n",
        "for sent in pre['cleaned_summary']:\n",
        "    summary_count.append(len(sent.split()))"
      ],
      "execution_count": 0,
      "outputs": []
    },
    {
      "cell_type": "code",
      "metadata": {
        "id": "GIKJ_K3IYbX1",
        "colab_type": "code",
        "colab": {
          "base_uri": "https://localhost:8080/",
          "height": 281
        },
        "outputId": "c73d2708-eb43-4ec7-b9fd-da6f8477769a"
      },
      "source": [
        "graph_df= pd.DataFrame()\n",
        "graph_df['text']=text_count\n",
        "graph_df['summary']=summary_count\n",
        "\n",
        "import matplotlib.pyplot as plt\n",
        "\n",
        "graph_df.hist(bins = 5)\n",
        "plt.show()"
      ],
      "execution_count": 11,
      "outputs": [
        {
          "output_type": "display_data",
          "data": {
            "image/png": "[encoded data removed]",
            "text/plain": [
              "<Figure size 432x288 with 2 Axes>"
            ]
          },
          "metadata": {
            "tags": []
          }
        }
      ]
    },
    {
      "cell_type": "code",
      "metadata": {
        "id": "eBMb8MnTYkjD",
        "colab_type": "code",
        "colab": {}
      },
      "source": [
        "#Model to summarize the text between 0-50 words for Summary and 0-200 words for Text\n",
        "max_text_len = 200\n",
        "max_summary_len = 50\n",
        "\n",
        "#Select the Summaries and Text between max len defined above\n",
        "cleaned_text = np.array(pre['cleaned_text'])\n",
        "cleaned_summary = np.array(pre['cleaned_summary'])\n",
        "\n",
        "short_text = []\n",
        "short_summary = []\n",
        "\n",
        "for i in range(len(cleaned_text)):\n",
        "    if(len(cleaned_summary[i].split())<=max_summary_len and len(cleaned_text[i].split())<=max_text_len):\n",
        "        short_text.append(cleaned_text[i])\n",
        "        short_summary.append(cleaned_summary[i])\n",
        "        \n",
        "post_pre=pd.DataFrame({'text':short_text,'summary':short_summary})"
      ],
      "execution_count": 0,
      "outputs": []
    },
    {
      "cell_type": "code",
      "metadata": {
        "id": "CX8Wgd7PYpsP",
        "colab_type": "code",
        "colab": {
          "base_uri": "https://localhost:8080/",
          "height": 108
        },
        "outputId": "e641d2f9-f80c-4c4a-b1b7-8be7a0695109"
      },
      "source": [
        "post_pre.head(2)"
      ],
      "execution_count": 13,
      "outputs": [
        {
          "output_type": "execute_result",
          "data": {
            "text/html": [
              "<div>\n",
              "<style scoped>\n",
              "    .dataframe tbody tr th:only-of-type {\n",
              "        vertical-align: middle;\n",
              "    }\n",
              "\n",
              "    .dataframe tbody tr th {\n",
              "        vertical-align: top;\n",
              "    }\n",
              "\n",
              "    .dataframe thead th {\n",
              "        text-align: right;\n",
              "    }\n",
              "</style>\n",
              "<table border=\"1\" class=\"dataframe\">\n",
              "  <thead>\n",
              "    <tr style=\"text-align: right;\">\n",
              "      <th></th>\n",
              "      <th>text</th>\n",
              "      <th>summary</th>\n",
              "    </tr>\n",
              "  </thead>\n",
              "  <tbody>\n",
              "    <tr>\n",
              "      <th>0</th>\n",
              "      <td>saurav kant an alumnus of upgrad and iiit-b pg...</td>\n",
              "      <td>_START_ upgrad learner switches to career in m...</td>\n",
              "    </tr>\n",
              "    <tr>\n",
              "      <th>1</th>\n",
              "      <td>kunal shah credit card bill payment platform c...</td>\n",
              "      <td>_START_ delhi techie wins free food from swigg...</td>\n",
              "    </tr>\n",
              "  </tbody>\n",
              "</table>\n",
              "</div>"
            ],
            "text/plain": [
              "                                                text                                            summary\n",
              "0  saurav kant an alumnus of upgrad and iiit-b pg...  _START_ upgrad learner switches to career in m...\n",
              "1  kunal shah credit card bill payment platform c...  _START_ delhi techie wins free food from swigg..."
            ]
          },
          "metadata": {
            "tags": []
          },
          "execution_count": 13
        }
      ]
    },
    {
      "cell_type": "code",
      "metadata": {
        "id": "IM_tlftnYrpq",
        "colab_type": "code",
        "colab": {}
      },
      "source": [
        "#Add sostok(start of sentence token) and eostok(end of sentence token)\n",
        "post_pre['summary'] = post_pre['summary'].apply(lambda x : 'sostok '+ x + ' eostok')"
      ],
      "execution_count": 0,
      "outputs": []
    },
    {
      "cell_type": "code",
      "metadata": {
        "id": "ouqfJTOSYuas",
        "colab_type": "code",
        "colab": {
          "base_uri": "https://localhost:8080/",
          "height": 108
        },
        "outputId": "aa0ae83a-f341-4114-8746-c36d43099d4e"
      },
      "source": [
        "post_pre.head(2)"
      ],
      "execution_count": 15,
      "outputs": [
        {
          "output_type": "execute_result",
          "data": {
            "text/html": [
              "<div>\n",
              "<style scoped>\n",
              "    .dataframe tbody tr th:only-of-type {\n",
              "        vertical-align: middle;\n",
              "    }\n",
              "\n",
              "    .dataframe tbody tr th {\n",
              "        vertical-align: top;\n",
              "    }\n",
              "\n",
              "    .dataframe thead th {\n",
              "        text-align: right;\n",
              "    }\n",
              "</style>\n",
              "<table border=\"1\" class=\"dataframe\">\n",
              "  <thead>\n",
              "    <tr style=\"text-align: right;\">\n",
              "      <th></th>\n",
              "      <th>text</th>\n",
              "      <th>summary</th>\n",
              "    </tr>\n",
              "  </thead>\n",
              "  <tbody>\n",
              "    <tr>\n",
              "      <th>0</th>\n",
              "      <td>saurav kant an alumnus of upgrad and iiit-b pg...</td>\n",
              "      <td>sostok _START_ upgrad learner switches to care...</td>\n",
              "    </tr>\n",
              "    <tr>\n",
              "      <th>1</th>\n",
              "      <td>kunal shah credit card bill payment platform c...</td>\n",
              "      <td>sostok _START_ delhi techie wins free food fro...</td>\n",
              "    </tr>\n",
              "  </tbody>\n",
              "</table>\n",
              "</div>"
            ],
            "text/plain": [
              "                                                text                                            summary\n",
              "0  saurav kant an alumnus of upgrad and iiit-b pg...  sostok _START_ upgrad learner switches to care...\n",
              "1  kunal shah credit card bill payment platform c...  sostok _START_ delhi techie wins free food fro..."
            ]
          },
          "metadata": {
            "tags": []
          },
          "execution_count": 15
        }
      ]
    },
    {
      "cell_type": "code",
      "metadata": {
        "id": "sfwgMgNOY0rh",
        "colab_type": "code",
        "colab": {}
      },
      "source": [
        "# Get the train/test split package from sklearn for preparing our dataset to\n",
        "# train and test the model with\n",
        "from sklearn.model_selection import train_test_split\n",
        "x_tr,x_val,y_tr,y_val=train_test_split(np.array(post_pre['text']),np.array(post_pre['summary']),test_size=0.3,random_state=0,shuffle=True)"
      ],
      "execution_count": 0,
      "outputs": []
    },
    {
      "cell_type": "code",
      "metadata": {
        "id": "EiH9-vXDY3Sp",
        "colab_type": "code",
        "colab": {
          "base_uri": "https://localhost:8080/",
          "height": 34
        },
        "outputId": "82dabad4-160c-4e46-dff6-e07513d828a3"
      },
      "source": [
        "# Let's tokenize the text to get the vocab count\n",
        "from keras.preprocessing.text import Tokenizer \n",
        "from keras.preprocessing.sequence import pad_sequences"
      ],
      "execution_count": 17,
      "outputs": [
        {
          "output_type": "stream",
          "text": [
            "Using TensorFlow backend.\n"
          ],
          "name": "stderr"
        }
      ]
    },
    {
      "cell_type": "code",
      "metadata": {
        "id": "7KwVbnfgY7SQ",
        "colab_type": "code",
        "colab": {}
      },
      "source": [
        "# Prepare a tokenizer on training data for reviews\n",
        "x_tokenizer = Tokenizer(num_words=5000) \n",
        "x_tokenizer.fit_on_texts(list(x_tr))\n",
        "\n",
        "# Convert text sequences into integer sequences (i.e one-hot encodeing all the words)\n",
        "x_tr_seq    =   x_tokenizer.texts_to_sequences(x_tr) \n",
        "x_val_seq   =   x_tokenizer.texts_to_sequences(x_val)\n",
        "\n",
        "# Padding zero upto maximum length\n",
        "x_tr    =   pad_sequences(x_tr_seq,  maxlen=max_text_len, padding='post')\n",
        "x_val   =   pad_sequences(x_val_seq, maxlen=max_text_len, padding='post')\n",
        "\n",
        "# Size of vocabulary ( +1 for padding token)\n",
        "x_voc   =  len(x_tokenizer.word_index) + 1"
      ],
      "execution_count": 0,
      "outputs": []
    },
    {
      "cell_type": "code",
      "metadata": {
        "id": "ZzOCEsUjZBfR",
        "colab_type": "code",
        "colab": {}
      },
      "source": [
        "# Prepare a tokenizer for reviews on testing data\n",
        "y_tokenizer = Tokenizer(num_words=5000) \n",
        "y_tokenizer.fit_on_texts(list(y_tr))\n",
        "\n",
        "# Convert text sequences into integer sequences (i.e one hot encode the text in Y)\n",
        "y_tr_seq    =   y_tokenizer.texts_to_sequences(y_tr) \n",
        "y_val_seq   =   y_tokenizer.texts_to_sequences(y_val) \n",
        "\n",
        "# Padding zero upto maximum length\n",
        "y_tr    =   pad_sequences(y_tr_seq, maxlen=max_summary_len, padding='post')\n",
        "y_val   =   pad_sequences(y_val_seq, maxlen=max_summary_len, padding='post')\n",
        "\n",
        "# Size of vocabulary\n",
        "y_voc  =   len(y_tokenizer.word_index) +1"
      ],
      "execution_count": 0,
      "outputs": []
    },
    {
      "cell_type": "code",
      "metadata": {
        "id": "mWKHGMVIZDuQ",
        "colab_type": "code",
        "colab": {}
      },
      "source": [
        "ind=[]\n",
        "for i in range(len(y_tr)):\n",
        "    cnt=0\n",
        "    for j in y_tr[i]:\n",
        "        if j!=0:\n",
        "            cnt=cnt+1\n",
        "    if(cnt==2):\n",
        "        ind.append(i)\n",
        "\n",
        "y_tr=np.delete(y_tr,ind, axis=0)\n",
        "x_tr=np.delete(x_tr,ind, axis=0)"
      ],
      "execution_count": 0,
      "outputs": []
    },
    {
      "cell_type": "code",
      "metadata": {
        "id": "AdPxpNI1ZFvQ",
        "colab_type": "code",
        "colab": {}
      },
      "source": [
        "ind=[]\n",
        "for i in range(len(y_val)):\n",
        "    cnt=0\n",
        "    for j in y_val[i]:\n",
        "        if j!=0:\n",
        "            cnt=cnt+1\n",
        "    if(cnt==2):\n",
        "        ind.append(i)\n",
        "\n",
        "y_val=np.delete(y_val,ind, axis=0)\n",
        "x_val=np.delete(x_val,ind, axis=0)"
      ],
      "execution_count": 0,
      "outputs": []
    },
    {
      "cell_type": "code",
      "metadata": {
        "id": "kJSlZ0UpypRL",
        "colab_type": "code",
        "colab": {}
      },
      "source": [
        "\n",
        "from numpy import array\n",
        "from numpy import asarray\n",
        "from numpy import zeros\n",
        "\n",
        "#Import GloVe word embeddings\n",
        "# download file form here: https://www.kaggle.com/terenceliu4444/glove6b100dtxt\n",
        "\n",
        "embeddings_dictionary = dict()\n",
        "glove_file = open('/content/glove.6B.100d.txt', encoding=\"utf8\")\n",
        "\n",
        "for line in glove_file:\n",
        "    records = line.split()\n",
        "    word = records[0]\n",
        "    vector_dimensions = asarray(records[1:], dtype='float32')\n",
        "    embeddings_dictionary [word] = vector_dimensions\n",
        "glove_file.close()\n",
        "\n",
        "#Updating the dictionary with the pre-trained GloVe embeddings.\n",
        "embedding_matrix = zeros((x_voc, 100))\n",
        "for word, index in x_tokenizer.word_index.items():\n",
        "    embedding_vector = embeddings_dictionary.get(word)\n",
        "    if embedding_vector is not None:\n",
        "        embedding_matrix[index] = embedding_vector"
      ],
      "execution_count": 0,
      "outputs": []
    },
    {
      "cell_type": "code",
      "metadata": {
        "id": "JB55U9mAZKTO",
        "colab_type": "code",
        "colab": {
          "base_uri": "https://localhost:8080/",
          "height": 617
        },
        "outputId": "df11b979-ee3a-406d-cd1d-2996288367ca"
      },
      "source": [
        "from tensorflow.keras import backend as K \n",
        "import gensim\n",
        "from numpy import *\n",
        "from bs4 import BeautifulSoup\n",
        "from nltk.corpus import stopwords\n",
        "from tensorflow.keras.layers import Input, LSTM, Embedding, Dense, Concatenate, TimeDistributed\n",
        "from tensorflow.keras.models import Model\n",
        "from tensorflow.keras.callbacks import EarlyStopping\n",
        "import warnings\n",
        "pd.set_option(\"display.max_colwidth\", 200)\n",
        "warnings.filterwarnings(\"ignore\")\n",
        "\n",
        "print(\"Size of vocabulary from the w2v model = {}\".format(x_voc))\n",
        "\n",
        "K.clear_session()\n",
        "\n",
        "latent_dim = 300\n",
        "embedding_dim=100\n",
        "\n",
        "# Encoder\n",
        "encoder_inputs = Input(shape=(max_text_len,))\n",
        "\n",
        "#embedding layer\n",
        "enc_emb =  Embedding(x_voc, embedding_dim, weights=[embedding_matrix], trainable=True)(encoder_inputs)\n",
        "\n",
        "#encoder lstm 1\n",
        "encoder_lstm1 = LSTM(latent_dim,return_sequences=True,return_state=True,dropout=0.5,recurrent_dropout=0.5)\n",
        "encoder_output1, state_h1, state_c1 = encoder_lstm1(enc_emb)\n",
        "\n",
        "#encoder lstm 2\n",
        "encoder_lstm2 = LSTM(latent_dim,return_sequences=True,return_state=True,dropout=0.5,recurrent_dropout=0.5)\n",
        "encoder_output2, state_h2, state_c2 = encoder_lstm2(encoder_output1)\n",
        "\n",
        "#encoder lstm 3\n",
        "encoder_lstm3=LSTM(latent_dim, return_state=True, return_sequences=True,dropout=0.5,recurrent_dropout=0.5)\n",
        "encoder_outputs, state_h, state_c= encoder_lstm3(encoder_output2)\n",
        "\n",
        "# Set up the decoder, using 'encoder_states' as initial state.\n",
        "decoder_inputs = Input(shape=(None,))\n",
        "\n",
        "#embedding layer\n",
        "dec_emb_layer = Embedding(y_voc, embedding_dim,trainable=True)\n",
        "dec_emb = dec_emb_layer(decoder_inputs)\n",
        "\n",
        "decoder_lstm = LSTM(latent_dim, return_sequences=True, return_state=True,dropout=0.5,recurrent_dropout=0.5)\n",
        "decoder_outputs,decoder_fwd_state, decoder_back_state = decoder_lstm(dec_emb,initial_state=[state_h, state_c])\n",
        "\n",
        "#dense layer\n",
        "decoder_dense =  TimeDistributed(Dense(y_voc, activation='softmax'))\n",
        "decoder_outputs = decoder_dense(decoder_outputs)\n",
        "\n",
        "# Define the model \n",
        "model = Model([encoder_inputs, decoder_inputs], decoder_outputs)\n",
        "\n",
        "model.summary()"
      ],
      "execution_count": 23,
      "outputs": [
        {
          "output_type": "stream",
          "text": [
            "Size of vocabulary from the w2v model = 72001\n",
            "WARNING:tensorflow:Layer lstm will not use cuDNN kernel since it doesn't meet the cuDNN kernel criteria. It will use generic GPU kernel as fallback when running on GPU\n",
            "WARNING:tensorflow:Layer lstm_1 will not use cuDNN kernel since it doesn't meet the cuDNN kernel criteria. It will use generic GPU kernel as fallback when running on GPU\n",
            "WARNING:tensorflow:Layer lstm_2 will not use cuDNN kernel since it doesn't meet the cuDNN kernel criteria. It will use generic GPU kernel as fallback when running on GPU\n",
            "WARNING:tensorflow:Layer lstm_3 will not use cuDNN kernel since it doesn't meet the cuDNN kernel criteria. It will use generic GPU kernel as fallback when running on GPU\n",
            "Model: \"model\"\n",
            "__________________________________________________________________________________________________\n",
            "Layer (type)                    Output Shape         Param #     Connected to                     \n",
            "==================================================================================================\n",
            "input_1 (InputLayer)            [(None, 200)]        0                                            \n",
            "__________________________________________________________________________________________________\n",
            "embedding (Embedding)           (None, 200, 100)     7200100     input_1[0][0]                    \n",
            "__________________________________________________________________________________________________\n",
            "lstm (LSTM)                     [(None, 200, 300), ( 481200      embedding[0][0]                  \n",
            "__________________________________________________________________________________________________\n",
            "input_2 (InputLayer)            [(None, None)]       0                                            \n",
            "__________________________________________________________________________________________________\n",
            "lstm_1 (LSTM)                   [(None, 200, 300), ( 721200      lstm[0][0]                       \n",
            "__________________________________________________________________________________________________\n",
            "embedding_1 (Embedding)         (None, None, 100)    3144200     input_2[0][0]                    \n",
            "__________________________________________________________________________________________________\n",
            "lstm_2 (LSTM)                   [(None, 200, 300), ( 721200      lstm_1[0][0]                     \n",
            "__________________________________________________________________________________________________\n",
            "lstm_3 (LSTM)                   [(None, None, 300),  481200      embedding_1[0][0]                \n",
            "                                                                 lstm_2[0][1]                     \n",
            "                                                                 lstm_2[0][2]                     \n",
            "__________________________________________________________________________________________________\n",
            "time_distributed (TimeDistribut (None, None, 31442)  9464042     lstm_3[0][0]                     \n",
            "==================================================================================================\n",
            "Total params: 22,213,142\n",
            "Trainable params: 22,213,142\n",
            "Non-trainable params: 0\n",
            "__________________________________________________________________________________________________\n"
          ],
          "name": "stdout"
        }
      ]
    },
    {
      "cell_type": "code",
      "metadata": {
        "id": "57e05kD2ZSmp",
        "colab_type": "code",
        "colab": {}
      },
      "source": [
        "model.compile(optimizer='Adam', loss='sparse_categorical_crossentropy',metrics=['accuracy'])"
      ],
      "execution_count": 0,
      "outputs": []
    },
    {
      "cell_type": "code",
      "metadata": {
        "id": "gDSWgTrIZUn7",
        "colab_type": "code",
        "colab": {}
      },
      "source": [
        "es = EarlyStopping(monitor='val_loss', mode='min', verbose=1,patience=2)"
      ],
      "execution_count": 0,
      "outputs": []
    },
    {
      "cell_type": "code",
      "metadata": {
        "id": "aS_gQs6ZZWVc",
        "colab_type": "code",
        "colab": {
          "base_uri": "https://localhost:8080/",
          "height": 388
        },
        "outputId": "cded7eec-d99c-46b8-e27b-05664ec1fde7"
      },
      "source": [
        "history=model.fit([x_tr,y_tr[:,:-1]], y_tr.reshape(y_tr.shape[0],y_tr.shape[1], 1)[:,1:] ,epochs=10,batch_size=128, validation_data=([x_val,y_val[:,:-1]], y_val.reshape(y_val.shape[0],y_val.shape[1], 1)[:,1:]))"
      ],
      "execution_count": 26,
      "outputs": [
        {
          "output_type": "stream",
          "text": [
            "Epoch 1/10\n",
            "543/543 [==============================] - 1484s 3s/step - loss: 1.6633 - accuracy: 0.8113 - val_loss: 1.2656 - val_accuracy: 0.8346\n",
            "Epoch 2/10\n",
            "543/543 [==============================] - 1466s 3s/step - loss: 1.2468 - accuracy: 0.8346 - val_loss: 1.2172 - val_accuracy: 0.8362\n",
            "Epoch 3/10\n",
            "543/543 [==============================] - 1463s 3s/step - loss: 1.2059 - accuracy: 0.8364 - val_loss: 1.1806 - val_accuracy: 0.8381\n",
            "Epoch 4/10\n",
            "543/543 [==============================] - 1475s 3s/step - loss: 1.1698 - accuracy: 0.8383 - val_loss: 1.1494 - val_accuracy: 0.8397\n",
            "Epoch 5/10\n",
            "543/543 [==============================] - 1463s 3s/step - loss: 1.1390 - accuracy: 0.8399 - val_loss: 1.1229 - val_accuracy: 0.8416\n",
            "Epoch 6/10\n",
            "543/543 [==============================] - 1467s 3s/step - loss: 1.1132 - accuracy: 0.8413 - val_loss: 1.1015 - val_accuracy: 0.8428\n",
            "Epoch 7/10\n",
            "543/543 [==============================] - 1466s 3s/step - loss: 1.0900 - accuracy: 0.8425 - val_loss: 1.0805 - val_accuracy: 0.8438\n",
            "Epoch 8/10\n",
            "543/543 [==============================] - 1471s 3s/step - loss: 1.0638 - accuracy: 0.8437 - val_loss: 1.0569 - val_accuracy: 0.8451\n",
            "Epoch 9/10\n",
            "543/543 [==============================] - 1462s 3s/step - loss: 1.0393 - accuracy: 0.8449 - val_loss: 1.0381 - val_accuracy: 0.8462\n",
            "Epoch 10/10\n",
            "543/543 [==============================] - 1496s 3s/step - loss: 1.0174 - accuracy: 0.8461 - val_loss: 1.0197 - val_accuracy: 0.8473\n"
          ],
          "name": "stdout"
        }
      ]
    },
    {
      "cell_type": "code",
      "metadata": {
        "id": "fUV-pFY8ZbQm",
        "colab_type": "code",
        "colab": {
          "base_uri": "https://localhost:8080/",
          "height": 279
        },
        "outputId": "f6573294-4f54-4fdc-f9a7-44a1cb07fa4a"
      },
      "source": [
        "from matplotlib import pyplot\n",
        "pyplot.plot(history.history['loss'], label='train')\n",
        "pyplot.plot(history.history['val_loss'], label='test')\n",
        "pyplot.xlabel('Epoch')\n",
        "pyplot.ylabel('Loss')\n",
        "pyplot.legend()\n",
        "pyplot.show()"
      ],
      "execution_count": 27,
      "outputs": [
        {
          "output_type": "display_data",
          "data": {
            "image/png": "[encoded data removed]",
            "text/plain": [
              "<Figure size 432x288 with 1 Axes>"
            ]
          },
          "metadata": {
            "tags": []
          }
        }
      ]
    },
    {
      "cell_type": "code",
      "metadata": {
        "id": "5rYNo_D54GXa",
        "colab_type": "code",
        "colab": {
          "base_uri": "https://localhost:8080/",
          "height": 279
        },
        "outputId": "81a13921-22e0-4ee6-cb18-d79417493962"
      },
      "source": [
        "pyplot.plot(history.history['accuracy'], label='train')\n",
        "pyplot.plot(history.history['val_accuracy'], label='test')\n",
        "pyplot.xlabel('Epoch')\n",
        "pyplot.ylabel('Accuracy')\n",
        "pyplot.legend()\n",
        "pyplot.show()"
      ],
      "execution_count": 29,
      "outputs": [
        {
          "output_type": "display_data",
          "data": {
            "image/png": "[encoded data removed]",
            "text/plain": [
              "<Figure size 432x288 with 1 Axes>"
            ]
          },
          "metadata": {
            "tags": []
          }
        }
      ]
    },
    {
      "cell_type": "code",
      "metadata": {
        "id": "y0VKZk6cZdMh",
        "colab_type": "code",
        "colab": {}
      },
      "source": [
        "reverse_target_word_index=y_tokenizer.index_word\n",
        "reverse_source_word_index=x_tokenizer.index_word\n",
        "target_word_index=y_tokenizer.word_index"
      ],
      "execution_count": 0,
      "outputs": []
    },
    {
      "cell_type": "code",
      "metadata": {
        "id": "_tzBJKKGZe8x",
        "colab_type": "code",
        "colab": {}
      },
      "source": [
        "encoder_model = Model(inputs=encoder_inputs,outputs=[encoder_outputs, state_h, state_c])\n",
        "\n",
        "# Decoder setup\n",
        "# Below tensors will hold the states of the previous time step\n",
        "decoder_state_input_h = Input(shape=(latent_dim,))\n",
        "decoder_state_input_c = Input(shape=(latent_dim,))\n",
        "decoder_hidden_state_input = Input(shape=(max_text_len,latent_dim))\n",
        "\n",
        "# Get the embeddings of the decoder sequence\n",
        "dec_emb2= dec_emb_layer(decoder_inputs) \n",
        "# To predict the next word in the sequence, set the initial states to the states from the previous time step\n",
        "decoder_outputs2, state_h2, state_c2 = decoder_lstm(dec_emb2, initial_state=[decoder_state_input_h, decoder_state_input_c])\n",
        "\n",
        "# A dense softmax layer to generate prob dist. over the target vocabulary\n",
        "decoder_outputs2 = decoder_dense(decoder_outputs2) \n",
        "\n",
        "# Final decoder model\n",
        "decoder_model = Model(\n",
        "    [decoder_inputs] + [decoder_hidden_state_input,decoder_state_input_h, decoder_state_input_c],\n",
        "    [decoder_outputs2] + [state_h2, state_c2])"
      ],
      "execution_count": 0,
      "outputs": []
    },
    {
      "cell_type": "code",
      "metadata": {
        "id": "0G_WCH50ZhY6",
        "colab_type": "code",
        "colab": {}
      },
      "source": [
        "def decode_sequence(input_seq):\n",
        "    # Encode the input as state vectors.\n",
        "    e_out, e_h, e_c = encoder_model.predict(input_seq)\n",
        "    \n",
        "    # Generate empty target sequence of length 1.\n",
        "    target_seq = np.zeros((1,1))\n",
        "    \n",
        "    # Populate the first word of target sequence with the start word.\n",
        "    target_seq[0, 0] = target_word_index['sostok']\n",
        "\n",
        "    stop_condition = False\n",
        "    decoded_sentence = ''\n",
        "    while not stop_condition:\n",
        "      \n",
        "        output_tokens, h, c = decoder_model.predict([target_seq] + [e_out, e_h, e_c])\n",
        "\n",
        "        # Sample a token\n",
        "        sampled_token_index = np.argmax(output_tokens[0, -1, :])\n",
        "        sampled_token = reverse_target_word_index[sampled_token_index]\n",
        "        \n",
        "        if(sampled_token!='eostok'):\n",
        "            decoded_sentence += ' '+sampled_token\n",
        "\n",
        "        # Exit condition: either hit max length or find stop word.\n",
        "        if (sampled_token == 'eostok'  or len(decoded_sentence.split()) >= (max_summary_len-1)):\n",
        "            stop_condition = True\n",
        "\n",
        "        # Update the target sequence (of length 1).\n",
        "        target_seq = np.zeros((1,1))\n",
        "        target_seq[0, 0] = sampled_token_index\n",
        "\n",
        "        # Update internal states\n",
        "        e_h, e_c = h, c\n",
        "\n",
        "    return decoded_sentence"
      ],
      "execution_count": 0,
      "outputs": []
    },
    {
      "cell_type": "code",
      "metadata": {
        "id": "X5cjeGMHZml2",
        "colab_type": "code",
        "colab": {}
      },
      "source": [
        "def seq2summary(input_seq):\n",
        "    newString=''\n",
        "    for i in input_seq:\n",
        "        if((i!=0 and i!=target_word_index['sostok']) and i!=target_word_index['eostok']):\n",
        "            newString=newString+reverse_target_word_index[i]+' '\n",
        "    return newString\n",
        "\n",
        "def seq2text(input_seq):\n",
        "    newString=''\n",
        "    for i in input_seq:\n",
        "        if(i!=0):\n",
        "            newString=newString+reverse_source_word_index[i]+' '\n",
        "    return newString"
      ],
      "execution_count": 0,
      "outputs": []
    },
    {
      "cell_type": "code",
      "metadata": {
        "id": "vzD9RtQDZvxc",
        "colab_type": "code",
        "colab": {
          "base_uri": "https://localhost:8080/",
          "height": 1000
        },
        "outputId": "b69eb046-c328-477e-def7-694f150018c5"
      },
      "source": [
        "for i in range(0,100):\n",
        "    print(\"Review:\",seq2text(x_tr[i]))\n",
        "    print(\"Original summary:\",seq2summary(y_tr[i]))\n",
        "    print(\"Predicted summary:\",decode_sequence(x_tr[i].reshape(1,max_text_len)))\n",
        "    print(\"\\n\")"
      ],
      "execution_count": 36,
      "outputs": [
        {
          "output_type": "stream",
          "text": [
            "Review: karnataka cm hd kumaraswamy on monday said that the state government was formed under circumstances and he couldn do magic to change things immediately the coalition government will survive and work he added the cm was reacting to various issues raised by mlas including projects and illegal sand mining among others \n",
            "Original summary: start k taka govt made under odd can do cm end \n",
            "Predicted summary:  start us prez kovind to be in india end\n",
            "\n",
            "\n",
            "Review: a 45 year old woman in bihar was gangraped on the banks of the ganga river when she had gone for on monday the accused dragged her out and took turns raping her as the other one shot video which was circulated on whatsapp in the video the woman is seen asking them to consider the of ganga \n",
            "Original summary: start 45 yr old woman gangraped by men while in ganga river end \n",
            "Predicted summary:  start man held for raping minor girl in delhi end\n",
            "\n",
            "\n",
            "Review: dera chief gurmeet ram rahim singh has in video appealed to his followers to leave haryana where his rape case verdict is scheduled for friday he requested his dera to return home and maintain peace and order will myself go for the verdict all of us should respect the law rahim added \n",
            "Original summary: start leave go home ram rahim appeals to followers end \n",
            "Predicted summary:  start bjp leader calls for bjp leader end\n",
            "\n",
            "\n",
            "Review: the supreme court has dismissed congress plea seeking directions to election commission to at least 25 of votes in the gujarat elections with voter paper audit adding that it cannot with the ec exercise of power the court said democracy electoral process is of importance and it can to party \n",
            "Original summary: start sc denies cong plea to guj evm votes with paper trail end \n",
            "Predicted summary:  start bjp leader calls for not to be in end\n",
            "\n",
            "\n",
            "Review: amitabh bachchan while talking about why he accepted the offer to host said had no work no money and of ill threatening it helped me pay off each and every person he added bachchan further said his and about appearing on television were prime \n",
            "Original summary: start i had no work no money big on doing end \n",
            "Predicted summary:  start i am the to be in my life on my life end\n",
            "\n",
            "\n",
            "Review: the dog who had over 1 6 crore facebook followers has died aged 12 his owners said that he had showed signs of heart problems ever since his best friend and fellow died in 2017 we think his heart broke when left us he on and gave us over year owners added \n",
            "Original summary: start the who had 1 6 cr followers dies of end \n",
            "Predicted summary:  start man held for raping minor girl in delhi end\n",
            "\n",
            "\n",
            "Review: goa agriculture minister has approved pilot project shiv wherein farmers will om for 20 minutes daily to channel energy for better ll every method if you me rock show will also help get people excited about agriculture ll pull it in the middle of the fields said \n",
            "Original summary: start chant to get better goa govt to farmers end \n",
            "Predicted summary:  start us to be in india end\n",
            "\n",
            "\n",
            "Review: lalu prasad yadav son tej pratap took at dalit family house in his constituency in bihar and shared pictures of the same on twitter calling it experience the rjd leader also held tea with tej campaign in the constituency where the residents were invited over tea to share their problem with him \n",
            "Original summary: start lalu son takes at dalit home posts pics on twitter end \n",
            "Predicted summary:  start bjp leader calls for not to be in end\n",
            "\n",
            "\n",
            "Review: the un high commissioner for refugees has called for citizenship to myanmar muslim rohingya minority saying it is for achieving peace and development in the state seen as illegal immigrants the rohingya are reportedly denied basic rights according to the un 75 000 rohingya were forced to after myanmar army crackdown last year \n",
            "Original summary: start un refugee head calls for citizenship for myanmar rohingyas end \n",
            "Predicted summary:  start us to be in india end\n",
            "\n",
            "\n",
            "Review: speaking about ranveer singh filmmaker karan johar said that other actors like ranbir kapoor and varun dhawan don have as much energy as ranveer but are unique in their own way ranveer is very and that something that he shows to the public his energy his he added he my hero karan further said \n",
            "Original summary: start ranbir varun don have as much energy as ranveer karan end \n",
            "Predicted summary:  start i am the to be in my life end\n",
            "\n",
            "\n",
            "Review: a delhi woman who complained to zomato on finding fly in her on monday was told by customer support executive that the concerned restaurant has been asked to add another fly to as after zomato apologised to the woman she responded by saying it an honest mistake but did have good \n",
            "Original summary: start woman finds fly in biryani zomato exec asks eatery to add another end \n",
            "Predicted summary:  start man held for raping minor girl in delhi end\n",
            "\n",
            "\n",
            "Review: american broke runner south african oscar world record in the 400 metres event after posting 45 25 second finish at the us championships on friday notably gold medallist is serving six year jail term after being found guilty of murdering his girlfriend in 2013 \n",
            "Original summary: start usa breaks runner record end \n",
            "Predicted summary:  start india to be in the world cup final end\n",
            "\n",
            "\n",
            "Review: pakistan chased down australia in the t20i series final on sunday to register their first international tournament final victory against australia since and record their highest successful chase in t20i cricket pakistan had lost as many as eight finals against australia in the last 28 years further pakistan have now won nine consecutive t20i series \n",
            "Original summary: start pak win an int final against aus for 1st time in 28 years end \n",
            "Predicted summary:  start india to be in the world cup final end\n",
            "\n",
            "\n",
            "Review: the centre has approved projects worth ã¢ââ¹1 800 crore for the development of tourism in himachal pradesh cm jai ram thakur said on saturday he added that the government will make efforts to develop known areas in the state as tourism sites this comes after tourism was affected in over severe water in may \n",
            "Original summary: start centre approves tourism projects worth ã¢ââ¹1 for himachal end \n",
            "Predicted summary:  start us to get its first time in india end\n",
            "\n",
            "\n",
            "Review: former cricketers sunil gavaskar and ravi shastri were paid 5 lakh each for in the four test india australia series earlier this year the highest paid by the bcci was former australian captain michael who received 3 lakh for the four tests the least paid was sanjay who received 6 lakh from the bcci \n",
            "Original summary: start gavaskar shastri paid by bcci for ind aus end \n",
            "Predicted summary:  start i am the the world best to be in the world cup end\n",
            "\n",
            "\n",
            "Review: himachal pradesh cm thakur on monday off helicopter taxi service that will reduce the travel time between and chandigarh to 20 minutes against the nearly 3 5 hours by road the service operated by can 19 persons on each and will charge ã¢ââ¹2 per person \n",
            "Original summary: start taxis launched to cut shimla chandigarh travel time to 20 min end \n",
            "Predicted summary:  start man arrested for raping minor girl in delhi end\n",
            "\n",
            "\n",
            "Review: of the suspected shell companies identified by sebi as many as 37 were formed in just one code in central kolkata further as many as of these were registered in west bengal notably of about 88 000 companies formed in india since january 2010 13 companies have been formed in just this code in kolkata \n",
            "Original summary: start 37 suspected shell firms formed in one code end \n",
            "Predicted summary:  start man arrested for raping minor girl in delhi end\n",
            "\n",
            "\n",
            "Review: the indian football team back into the top 100 fifa international team rankings after jumping three places to reach the spot in the latest rankings on thursday the indian team who have booked their asian cup after 27 year gap have jumped spot and reached the rank in the asian \n",
            "Original summary: start indian football team climbs back into fifa top 100 rankings end \n",
            "Predicted summary:  start man utd beat to be in india end\n",
            "\n",
            "\n",
            "Review: the oath taking ceremony for the newly supreme court judges indira banerjee and km joseph took place in that order on tuesday the order of the ceremony wasn changed despite from several sc judges who claimed the government joseph the judges argued that joseph should be the oath first since his name was recommended first \n",
            "Original summary: start new sc judges take oath amid row end \n",
            "Predicted summary:  start bjp leader calls for not to be in end\n",
            "\n",
            "\n",
            "Review: india 20 year old wrestler became the first indian to win back to back medals at the junior world championship after silver medal in the category in the haryana wrestler who had won the gold at junior asia championship in july had defeated from ukraine in the \n",
            "Original summary: start 20 yr old 1st indian to win back to back jr wrestling wc medals end \n",
            "Predicted summary:  start india to be in the world cup final end\n",
            "\n",
            "\n",
            "Review: cricket south africa on wednesday mistakenly used indian off spinner ravichandran ashwin picture while pujara for scoring 50 in the first innings of the third test pujara who scored his first run off the ball he faced reached 50 off his delivery before getting out for 50 use some or check before tweeting user reacted \n",
            "Original summary: start cricket sa uses ashwin pic while pujara end \n",
            "Predicted summary:  start india to be in the world cup final end\n",
            "\n",
            "\n",
            "Review: the 32 countries at the 2018 world cup will share 400 million ã¢ââ¹2 600 crore in prize money fifa announced on friday the winners of the tournament will 38 million 3 million more than what 2014 world cup winner germany received the tournament will be played across 11 cities in russia from june 14 to july 15 \n",
            "Original summary: start fifa announces ã¢ââ¹2 600 crore prize money for 2018 world cup end \n",
            "Predicted summary:  start man utd beat to be in india end\n",
            "\n",
            "\n",
            "Review: startup zomato has acquired bengaluru based corporate marketplace for reportedly around 18 million under the cash and stock deal zomato will app into it founded in 2012 by and varun claims over 000 food partners serving 500 companies in cities including mumbai hyderabad gurugram and pune \n",
            "Original summary: start zomato acquires platform for 18 million end \n",
            "Predicted summary:  start man held for raping minor girl in delhi end\n",
            "\n",
            "\n",
            "Review: jammu and kashmir government has reportedly decided to reward terrorists who before security forces with ã¢ââ¹6 lakh as part of for militants according to the reports the reward will be given in the form of fixed deposit with in period of 10 years and will be on display of good behaviour \n",
            "Original summary: start j to give reward to militants for report end \n",
            "Predicted summary:  start us to be in india end\n",
            "\n",
            "\n",
            "Review: us national security advisor john was with that had 000 troops to written on it as he talked to about venezuela as the president has said all options are on the table white house spokesperson said when asked if the us would consider taking military option amid the political crisis in venezuela \n",
            "Original summary: start pic shows 000 troops to in notes of us official end \n",
            "Predicted summary:  start us to be in india end\n",
            "\n",
            "\n",
            "Review: british car manufacturer has unveiled its next generation all electric formula car i type that can go 0 100 kmph in 2 8 seconds the new car is 25 more powerful than its producing as much as power with minimum weight of 900 kg including the driver the car offers maximum speed of 250 kmph \n",
            "Original summary: start jaguar next gen formula car goes 0 100 kmph in 2 8 sec end \n",
            "Predicted summary:  start man held for raping minor girl in delhi end\n",
            "\n",
            "\n",
            "Review: a video showing couple having sex on road in mumbai has gone viral the couple themselves their clothes and crossed the road to the other side after the police arrived at the scene while the man foreign national escaped the woman was caught by the police and is suspected to be mentally \n",
            "Original summary: start video of couple having sex on mumbai road goes viral end \n",
            "Predicted summary:  start man held for raping minor girl in delhi end\n",
            "\n",
            "\n",
            "Review: talking about rumours of her dating ranbir kapoor alia bhatt said don know how he feels about those rumours she added there is nothing to feel there no need to or anything alia further said ranbir is very good human being and she is very to be around him at this point in her life \n",
            "Original summary: start donã¢âât know how ranbir feels about rumour of us dating alia end \n",
            "Predicted summary:  start i am the to be in my life end\n",
            "\n",
            "\n",
            "Review: in case of suspected human trafficking missing boat carrying 100 200 indian migrants may be headed to new zealand the kerala police has said the group reportedly left the coast of kerala from on january 12 the investigation began after authorities found over 70 abandoned bags near the area \n",
            "Original summary: start missing boat with indian migrants may be to nz police end \n",
            "Predicted summary:  start man held for raping minor girl in delhi end\n",
            "\n",
            "\n",
            "Review: csk captain singh dhoni reacted in 0 16 seconds to rcb ab de villiers in the ipl 2018 on saturday de villiers tried to harbhajan delivery and was beaten by the turn before dhoni the off immediately further dhoni another in the match to equal record for most ipl 32 \n",
            "Original summary: start ms dhoni reacts in 0 16 seconds to stump ab de villiers end \n",
            "Predicted summary:  start india to be in the world cup final end\n",
            "\n",
            "\n",
            "Review: social media platform twitter on thursday filed lawsuit against the us government to block an order that required it to reveal who is running an account opposed to us president donald trump immigration policies the account is claimed to be the work of government employee twitter cited freedom of speech for not turning over the account records \n",
            "Original summary: start twitter sues us govt over order to reveal anti trump account end \n",
            "Predicted summary:  start us court orders to pay cr in case end\n",
            "\n",
            "\n",
            "Review: on monday announced it is buying israel based at home drink maker in deal worth 3 2 billion agreed to pay per share in cash for outstanding stock almost 11 higher price than its last closing price this is first big acquisition since ceo announced her exit from the company after 12 years \n",
            "Original summary: start buys israel based for 3 2 billion end \n",
            "Predicted summary:  start man arrested for raping minor girl in delhi end\n",
            "\n",
            "\n",
            "Review: australia is planning to build its first prison for militants with views to prevent of other inmates the move comes after shooting and situation in melbourne that was claimed by the islamic state the jail is expected to house 54 inmates and will include facilities audio and cctv to improve intelligence gathering \n",
            "Original summary: start australia to build 1st terrorist jail to stop end \n",
            "Predicted summary:  start us to get its first time in india end\n",
            "\n",
            "\n",
            "Review: former took to instagram to liverpool goalkeeper whose led to two of real madrid goals in their 3 1 victory over liverpool in the champions league final she posted picture of the 24 year old german and wrote keep are human nature you she further wrote about real madrid captain \n",
            "Original summary: start ex pornstar liverpool keeper says you end \n",
            "Predicted summary:  start india to be in the world cup final end\n",
            "\n",
            "\n",
            "Review: the pakistan foreign office has denied permission to invite foreign leaders to the in of imran khan as prime minister after his party emerged as the largest in the recently held elections khan party pti reportedly wanted to invite indian prime minister narendra modi and other leaders to the ceremony and had sought permission for the same \n",
            "Original summary: start no foreign leaders to be invited to imran khan in end \n",
            "Predicted summary:  start bjp leader calls for bjp leader end\n",
            "\n",
            "\n",
            "Review: the followers of gurmeet ram rahim dera were asked to start violence by targeting public buildings if the verdict went against him two arrested by the police have confessed they added that person from the top management had formed an a team to spread violence over 30 people were killed in the riots after the verdict \n",
            "Original summary: start were told to start violence if convicted dera people end \n",
            "Predicted summary:  start us court orders to pay cr in case end\n",
            "\n",
            "\n",
            "Review: the patna high court on wednesday asked the bihar school examination board to pay fine of ã¢ââ¹5 lakh for failing girl in 2017 class 10 exam the girl had filed petition claiming that she couldn have so it was revealed after re that she had been awarded poor marks due to board \n",
            "Original summary: start bihar board fined ã¢ââ¹5 lakh for wrongly failing student end \n",
            "Predicted summary:  start us to get its first time in india end\n",
            "\n",
            "\n",
            "Review: actress tanushree dutta spokesperson has claimed that actor nana is still harassing her with legal threats and man who is claiming to be nana advocate is threatening to tanushree to court for speaking up the spokesperson added nana had earlier said he will take legal action against tanushree for allegedly him \n",
            "Original summary: start nana is still harassing tanushree actress spokesperson end \n",
            "Predicted summary:  start i am the to be in my life end\n",
            "\n",
            "\n",
            "Review: ceo has stepped down as the chairman and board member of who is ceo of will take over as chairman of in 2015 had split into two companies and exit comes amid reports that she has been by uber for ceo post \n",
            "Original summary: start hp ceo steps down from hp board end \n",
            "Predicted summary:  start us to be in india end\n",
            "\n",
            "\n",
            "Review: allegations about in india transactions tata sons has issued statement saying continues to make statements that his actions are in the interest of tata group on the his actions far have the ousted tata sons chairman is also facing ã¢ââ¹500 crore defamation case over the allegations \n",
            "Original summary: start our tata end \n",
            "Predicted summary:  start us court orders to pay cr in up end\n",
            "\n",
            "\n",
            "Review: former indian cricketer sachin tendulkar mistakenly put photo of him and rahul dravid in his tweet that was birthday wish for former indian cricketer chopra the photo sachin wrote caption that read host author and opener man of many wishing my friend very happy birthday \n",
            "Original summary: start sachin puts dravid photo in day tweet for chopra end \n",
            "Predicted summary:  start i am the to be in my life end\n",
            "\n",
            "\n",
            "Review: billionaire anil ambani led reliance group on sunday denied allegations of the government being to reliance defence for rafale deal and said the defence ministry had no role in it the group added that french firm 36 rafale jets chose reliance defence to meet its or \n",
            "Original summary: start defence ministry has no role in rafale contract reliance end \n",
            "Predicted summary:  start us to be in india end\n",
            "\n",
            "\n",
            "Review: travelling can be beautiful experience but especially if things go and you are required to pay for expenses in foreign currency travel insurance offers global with local knowledge and expenses of loss of baggage trip trip and other expenses it also offers plans as per your need \n",
            "Original summary: start take care of on your travels with end \n",
            "Predicted summary:  start us to be in india end\n",
            "\n",
            "\n",
            "Review: over 200 cases have been reported in yemen water and poor are believed to have caused the of the disease yemen which has started man made with around 70 lakh facing is unable to allow the entry of relief to tackle the due to the imposed on it \n",
            "Original summary: start over 200 cases reported in yemen capital end \n",
            "Predicted summary:  start man held for raping minor girl in delhi end\n",
            "\n",
            "\n",
            "Review: the new list of 30 cities to be developed under the smart city mission released by the government on friday has four cities from tamil nadu and three each from uttar pradesh and gujarat tamil nadu and were selected further uttar pradesh jhansi allahabad and aligarh and gujarat and were added \n",
            "Original summary: start 4 tamil nadu cities from up gujarat in smart cities list end \n",
            "Predicted summary:  start man arrested for raping minor girl in delhi end\n",
            "\n",
            "\n",
            "Review: the government move to gst rates on over 50 goods will lower revenue by as much as ã¢ââ¹15 000 crore each year according to reports the gst council on saturday cut tax rates on several items including sanitary machines and interim finance minister piyush goyal had said that the revenue loss will be \n",
            "Original summary: start gst rate cuts may lower tax revenue by ã¢ââ¹15 000 crore year end \n",
            "Predicted summary:  start us to get its first time in india end\n",
            "\n",
            "\n",
            "Review: designer mukherjee has apologised for indian women who don know how to wear that the way in which tried to make point about the enabled it to be as and non he said added should have my answer as call to stop the \n",
            "Original summary: start apologises for shaming women who can wear end \n",
            "Predicted summary:  start i am the the best to be in the world cup end\n",
            "\n",
            "\n",
            "Review: in domestic match at the lord on june umpire declared batsman as he had to himself was the last batsman to come out to bat and the umpire admitted that he the player out as he would have himself had he not ended the innings \n",
            "Original summary: start umpire once declared batsman out as he had to end \n",
            "Predicted summary:  start india to be in the world cup end\n",
            "\n",
            "\n",
            "Review: passports will remain valid address proof in india after the ministry of external affairs on tuesday its decision to not the passport address on the last page of the following review meeting by external affairs minister sushma swaraj the ministry also its decision to issue coloured passports to people \n",
            "Original summary: start passports to remain address proof end \n",
            "Predicted summary:  start us to be in india end\n",
            "\n",
            "\n",
            "Review: congress vice president rahul gandhi on saturday slammed defence minister nirmala sitharaman over the rafale deal saying that it was her boss was her gandhi further questioned her about each jet final price and if the pm took permission before announcing purchase in paris this comes after sitharaman called congress for over the jets price \n",
            "Original summary: start that boss you rahul to defence minister end \n",
            "Predicted summary:  start bjp leader calls for not to be in end\n",
            "\n",
            "\n",
            "Review: the teaser of superhero film black film based on the character of the same name has been released it stars actor in the lead role who plays the king of the african nation directed by ryan the film is scheduled to release on february 16 2018 in the us \n",
            "Original summary: start teaser of superhero film black released end \n",
            "Predicted summary:  start i am the to be in my life end\n",
            "\n",
            "\n",
            "Review: us president donald trump pick verma was in as the of the government centres for services by her hand on the hindu book the indian american who was confirmed by the in 55 43 vote on monday has helped in several us states \n",
            "Original summary: start indian american sworn in as top us healthcare agency head end \n",
            "Predicted summary:  start us court orders to pay cr in up end\n",
            "\n",
            "\n",
            "Review: in what is said to be the first maharashtra animal and sciences university and an will work together to give tiger in maharashtra leg the tiger was in lot of pain and used to on three legs we immediately decided to provide him with the said \n",
            "Original summary: start tiger to get leg in maharashtra end \n",
            "Predicted summary:  start india to be in the world cup end\n",
            "\n",
            "\n",
            "Review: bharti airtel chairman sunil mittal on thursday said the telecom sector continues to be highly like the tobacco industry and the issue of high needs to be resolved speaking at the india mobile congress 2018 mittal added that must be made more india needs to ensure that telecom manufacturing facilities are shifted here mittal further said \n",
            "Original summary: start telecom sector like tobacco industry mittal end \n",
            "Predicted summary:  start us court orders to pay cr in case end\n",
            "\n",
            "\n",
            "Review: speaking after leaving the summit in canada us president donald trump accused india of charging 100 on some imports mean we have india where some of the tariffs are 100 hundred and we charge nothing we can do that trump said he threatened to cut trade ties with countries which are america \n",
            "Original summary: start trump accuses india of charging 100 tariff on imports end \n",
            "Predicted summary:  start us court orders to pay cr in case end\n",
            "\n",
            "\n",
            "Review: actress priyanka chopra with her rumoured boyfriend nick jonas from singapore has gone viral on the internet and is being shared both priyanka and nick were originally with indonesian singer the singer had shared pictures with both of them on his instagram account \n",
            "Original summary: start priyanka chopra nick jonas photo goes viral end \n",
            "Predicted summary:  start i am the to be in my life on my life end\n",
            "\n",
            "\n",
            "Review: censor board has demanded the removal of mann ki baat from dialogue in film as it is also the title of pm narendra modi radio show the board hasn objected to an in the same dialogue the board despite us an certificate asked for certain scenes to be said the film director \n",
            "Original summary: start censor board demands removal of mann ki baat in film end \n",
            "Predicted summary:  start bjp leader calls for not to be in end\n",
            "\n",
            "\n",
            "Review: an old bridge collapsed near in west bengal when truck was crossing it on friday this is the second such incident in four days after part of the 40 year old bridge collapsed in south kolkata while one truck driver was injured in the collapse in the death toll in bridge collapse has risen to three \n",
            "Original summary: start bridge collapses in west bengal second in days end \n",
            "Predicted summary:  start man held for raping minor girl in delhi end\n",
            "\n",
            "\n",
            "Review: the environment ministry has passed orders the recognition of all in india that make animals perform the central zoo authority under the ministry made the decision following year long and monitoring by officials wherein extreme to animals was reported however owners have accused the teams of and making false allegations \n",
            "Original summary: start government to featuring animals end \n",
            "Predicted summary:  start us to be in india end\n",
            "\n",
            "\n",
            "Review: the cbi has registered case against based diamond power infrastructure its founder and directors for 11 banks to the of ã¢ââ¹2 crore it allegedly obtained in credit facilities with the active of officials from various banks notably the company managed to get the loans despite being named in rbi list \n",
            "Original summary: start firm 11 banks of over ã¢ââ¹2 crore end \n",
            "Predicted summary:  start us to get its first time in india end\n",
            "\n",
            "\n",
            "Review: punjab cm captain amarinder singh on thursday turned down state minister navjot singh sidhu proposal to the of in the state saying am not in favour of growing anything we are against the concept of drugs we are fighting it like anything have created special force to deal with it the cm added \n",
            "Original summary: start not in favour of growing punjab cm on sidhu proposal end \n",
            "Predicted summary:  start bjp leader calls for not to be in end\n",
            "\n",
            "\n",
            "Review: after rjd mla was attacked by unidentified assailants on friday party leader tejashwi yadav slammed bihar chief minister nitish kumar over his silence on the incident and called him baba claiming that four rjd members have been attacked in the past six months yadav alleged that kumar was trying to rjd \n",
            "Original summary: start tejashwi calls nitish baba over his silence on crime end \n",
            "Predicted summary:  start bjp leader calls for not to be in end\n",
            "\n",
            "\n",
            "Review: received the nobel prize in physics in as none of the year met the in the will of its founder nobel the nobel foundation the award for one year as per the rules further was awarded the nobel for effect and not for his energy mass e \n",
            "Original summary: start einstein got nobel year late as no one met end \n",
            "Predicted summary:  start us to be in india end\n",
            "\n",
            "\n",
            "Review: india successfully test fired developed nuclear capable ii missile on wednesday the surface to surface missile which has strike range of 350 km is capable of carrying 500 1 000 kg of developed under missile development programme ii uses advanced system with to hit its target \n",
            "Original summary: start nuclear capable ii missile successfully test fired end \n",
            "Predicted summary:  start us to get its first time in india end\n",
            "\n",
            "\n",
            "Review: indian army major who tied stone to as human has defended his action saying that he saved many lives without firing bullet or beating anyone was recently given an award for sustained efforts in counter operations started throwing petrol bombs at us took that step to save people added \n",
            "Original summary: start saved many lives by stone to jeep major end \n",
            "Predicted summary:  start us to get its first time in india end\n",
            "\n",
            "\n",
            "Review: actor arjun while reacting to rumours of him dating actress wrote some start with coffee others with link right now it just my and me he added earlier reports said arjun and started dating after meeting on the sets of his film \n",
            "Original summary: start arjun reacts to rumour of him dating actress end \n",
            "Predicted summary:  start i am the to be in my life on my life end\n",
            "\n",
            "\n",
            "Review: the cbi has filed chargesheet against hyderabad based infrastructure and its directors for allegedly on 84 crore loan from union bank which was part of the ã¢ââ¹1 crore loan given by of eight banks cbi said probe found that the company and its directors allegedly loan facilities between 2005 and 2012 by its financial statements \n",
            "Original summary: start cbi files chargesheet against hyd firm over bank fraud case end \n",
            "Predicted summary:  start us to get its first time in india end\n",
            "\n",
            "\n",
            "Review: us vice president mike told the country troops to focus on their missions despite the government shutdown it to every american that would shut down the government at time when we have troops in harm way said notably us soldiers won be paid until the shutdown ends \n",
            "Original summary: start war will go on despite govt shutdown us vp to troops end \n",
            "Predicted summary:  start us to be in india end\n",
            "\n",
            "\n",
            "Review: owner mehul choksi in letter to his employees has said that he has not done anything wrong and will face his he further said that the truth shall the justice that is far off as it shall take time to prove my and the future seems choksi added \n",
            "Original summary: start will face my have done nothing wrong choksi end \n",
            "Predicted summary:  start us court orders to pay cr in case end\n",
            "\n",
            "\n",
            "Review: the unique identification authority of india uidai ceo ajay bhushan pandey was on friday given additional charge of interim chairman of the goods and services tax network first chairman kumar completed his term on august 29 the government has search committee for new chairman senior officials from the department of revenue \n",
            "Original summary: start uidai ceo ab appointed interim chairman end \n",
            "Predicted summary:  start us to be in india end\n",
            "\n",
            "\n",
            "Review: india head coach ravi shastri has criticised australian who agarwal by saying that his highest first class score of had come against railway staff has got message for when you open your he wants to the coffee and it to the ones back home in india shastri added \n",
            "Original summary: start will the coffee in your shastri to end \n",
            "Predicted summary:  start i am the the best to be in the world cup end\n",
            "\n",
            "\n",
            "Review: a delhi bjp member ordered pair of shoes online and sent them to chief minister arvind kejriwal as his birthday gift on wednesday sent this gift to arvind kejriwal as protest against his he uses fine shoes but always in public and official events said \n",
            "Original summary: start delhi bjp member gifts cm kejriwal shoes on his birthday end \n",
            "Predicted summary:  start bjp leader calls for bjp leader end\n",
            "\n",
            "\n",
            "Review: rahul dravid has revealed that he went on to score 180 in the second innings of the kolkata test in 2001 after then australian captain steve him over his batting position said rahul no in this innings what it in the next no 12 revealed dravid who was to number six due to poor form \n",
            "Original summary: start dravid reveals he scored 180 after waugh him end \n",
            "Predicted summary:  start i am the the best to be in the world cup end\n",
            "\n",
            "\n",
            "Review: senior congress party leader on saturday said that people like senior journalist gauri lankesh were being because of the of an conflict never said rss bjp behind this the should be put behind the bars as soon as possible the police should speed up the investigation added \n",
            "Original summary: start people like lankesh killed due to ideology conflict end \n",
            "Predicted summary:  start bjp leader calls for bjp leader end\n",
            "\n",
            "\n",
            "Review: actor arjun recently shared video on instagram in which his daughters and are singing justin song sorry while going for the recent concert in mumbai he shared the video with the caption in mode to the concert sorry \n",
            "Original summary: start arjun shares video of daughters singing bieber song end \n",
            "Predicted summary:  start i am the to be in my life on my life end\n",
            "\n",
            "\n",
            "Review: former world cup winning footballer and former argentina coach said after argentina draw against that current argentina coach cannot come back home with performance like that criticising said it not having prepared for the match that are all 1 tall \n",
            "Original summary: start argentina coach can come home playing like that maradona end \n",
            "Predicted summary:  start india to be in the world cup final end\n",
            "\n",
            "\n",
            "Review: paris mayor has called for ban on black festival saying it is to white people the festival has 80 of its area only for black women while the rest is into an area open to black men and women and an area open to all anti racist groups have condemned the festival \n",
            "Original summary: start paris mayor demands ban on black event end \n",
            "Predicted summary:  start us to be in india end\n",
            "\n",
            "\n",
            "Review: tim an australian proposed to his gay partner on the floor of the parliament during debate on same sex marriage the lower house of australian parliament began the bill on monday days after it was passed in the upper house majority of voted in support of same sex marriage in two month long government survey \n",
            "Original summary: start australian mp proposes to gay partner in parliament end \n",
            "Predicted summary:  start us to be in india end\n",
            "\n",
            "\n",
            "Review: pakistani singer ali khan has been issued show cause notice by the enforcement directorate ed for allegedly smuggling illegal foreign currency out of india for three years khan got 000 ã¢ââ¹2 42 crore through illegal means of which he reportedly 000 ã¢ââ¹1 6 crore the ed has sought the singer response within 45 days \n",
            "Original summary: start ali khan gets notice for smuggling currency out of india end \n",
            "Predicted summary:  start us court orders to pay cr in case end\n",
            "\n",
            "\n",
            "Review: bengaluru corridor project covering distance of kilometres with six is estimated to cost between ã¢ââ¹25 000 and 000 crore the proposed along with the ring road are proposed as the to the city roads the project expected to be completed by karnataka chief minister hd kumaraswamy \n",
            "Original summary: start bengaluru 102 km corridor to cost 000 cr end \n",
            "Predicted summary:  start man held for raping minor girl in delhi end\n",
            "\n",
            "\n",
            "Review: cricketer ravindra jadeja has said he did not know what meant when shane warne called him that during their days in rajasthan royals in 2008 was just thinking don sing song why is he calling me when met him first didn know he was one of the greatest bowlers in test cricket said jadeja \n",
            "Original summary: start warne called me didn know what it meant jadeja end \n",
            "Predicted summary:  start i am the to be in my life end\n",
            "\n",
            "\n",
            "Review: a 23 year old army jawan was booked after he allegedly raped and minor girl in andhra pradesh after to marry her the jawan family reportedly refused to accept the victim proposal for marriage and offered her money to the pregnancy the accused jawan who hailed from and was posted in kolkata is currently absconding \n",
            "Original summary: start army jawan booked for raping minor in andhra end \n",
            "Predicted summary:  start man utd beat to be in india end\n",
            "\n",
            "\n",
            "Review: american video game company electronic chief design officer the highest paid executive at the company with crore annual salary announced his exit from the company on tuesday who has been at the company for nearly two decades is set to begin new ceo andrew said earlier in june received crore \n",
            "Original summary: start gaming firm highest paid exec with cr salary quits end \n",
            "Predicted summary:  start us to get its first time in india end\n",
            "\n",
            "\n",
            "Review: all rounder hardik pandya took to social media to apologise to teammate who was hit on the face by the former throw during their mumbai indians match against rcb on tuesday pandya shared picture of himself captioned sorry bhai stay strong left the field after getting injured during over of rcb chase \n",
            "Original summary: start sorry bhai pandya to after throw hits him end \n",
            "Predicted summary:  start i am the to be in my life end\n",
            "\n",
            "\n",
            "Review: us based startup has become after it raised 100 million in venture funding round with pre money valuation of 1 billion as confirmed by growth stage investor led the round with participation from existing investors founded in 2017 the startup targeted at offers hair loss products and among others \n",
            "Original summary: start us startup becomes after raising end \n",
            "Predicted summary:  start man held for raping minor girl in delhi end\n",
            "\n",
            "\n",
            "Review: after goa cm manohar parrikar thanked congress leader singh for doing nothing and helping bjp in forming government in goa the latter responded stating parrikar should thank bjp leader nitin gadkari for mla shopping and governor goa who violated constitution commission supreme court decisions and the of people of goa he tweeted \n",
            "Original summary: start parrikar should thank gadkari for mla shopping digvijaya end \n",
            "Predicted summary:  start bjp leader calls for not to be in end\n",
            "\n",
            "\n",
            "Review: citing high level of crime and drug use at certain stations drivers on the paris metro have reportedly refused to stop at the stations claiming that they may danger to the passengers the drivers also claimed that metro stations were being used as places of business by drug transport authorities have called for increased police presence at stations \n",
            "Original summary: start paris metro drivers skip stations with drug violence report end \n",
            "Predicted summary:  start man held for raping minor girl in delhi end\n",
            "\n",
            "\n",
            "Review: actress was the first celebrity to visit actor salman khan in the jail in jodhpur after his conviction in the case following that salman sisters and visited him salman was sentenced to five years in prison in the case which was filed by the community in 1998 \n",
            "Original summary: start preity first celebrity to visit salman in jodhpur jail end \n",
            "Predicted summary:  start i am the to be in my life end\n",
            "\n",
            "\n",
            "Review: former england captain suggested that he would have had better chance of being if he up his face west indian cricketers have been so far while sir was the last england cricketer to get in 2007 for services to charity and cricket later apologised for his remarks \n",
            "Original summary: start need to black up to get boycott end \n",
            "Predicted summary:  start kohli to be in the world cup end\n",
            "\n",
            "\n",
            "Review: us president donald trump wanted to have syrian president al last year book written by reporter has claimed the book states that trump request was by secretary james commenting on the book trump said it just another bad book adding that in the book were made up \n",
            "Original summary: start trump wanted syrian president killed new book claims end \n",
            "Predicted summary:  start trump to be in india end\n",
            "\n",
            "\n",
            "Review: hackers on monday stole over crore worth of digital currency in about three minutes by victims into sending money to the wrong web address the hackers changed the address which was posted by company called to get funds from investors it took three minutes to realise its investors were sending funds to hackers address \n",
            "Original summary: start hackers steal crore worth digital currency in minutes end \n",
            "Predicted summary:  start man arrested for raping minor girl in delhi end\n",
            "\n",
            "\n",
            "Review: under my will be the opening film at the 2017 indian film festival of melbourne it will be for the first time in australia said the film director the film was initially refused certification by the indian censor board for being lady having sexual scenes and audio but was later cleared with support \n",
            "Original summary: start lipstick under my burkha to open indian film fest end \n",
            "Predicted summary:  start i am the to be in my life end\n",
            "\n",
            "\n",
            "Review: denying reports of between the congress and his party jd hd on friday said all is well between congress and jd speaking of the karnataka urban local body elections he added the parties will not allow bjp to come to power and will fight together in case of any \n",
            "Original summary: start all well between jd and congress says end \n",
            "Predicted summary:  start bjp leader calls for not to be in end\n",
            "\n",
            "\n",
            "Review: a black that went missing ten years ago has found its way back to its owners in united states the dog had been declared dead by its owners after it could not be found interestingly was identified based on information in in its neck years ago \n",
            "Original summary: start dog missing for 10 years finds way back home end \n",
            "Predicted summary:  start man held for raping minor girl in delhi end\n",
            "\n",
            "\n",
            "Review: ferrari formula one team principal has said the door at will always be open for michael son should the 19 year old follow in his father and progress to the formula one michael won five of his seven world titles with ferrari from 2000 while is currently second in the formula three european championship \n",
            "Original summary: start door always open for michael son ferrari end \n",
            "Predicted summary:  start india beat india to win world cup final end\n",
            "\n",
            "\n",
            "Review: wonder woman director while responding to us politician hillary clinton praising the film said it completely hillary had earlier said that the film starring in lead role was just as as movie about strong powerful woman would be added that she feels honoured that her movie was praised by person like hillary \n",
            "Original summary: start it on hillary wonder woman end \n",
            "Predicted summary:  start i am the to be in my life end\n",
            "\n",
            "\n",
            "Review: known as can have up to 200 eyes that function like telescope using to focus light most animal eyes which have an israel based study has revealed further the with square form images on double to focus both and central fields of view said researchers \n",
            "Original summary: start have 200 eyes that function like telescope study end \n",
            "Predicted summary:  start man held for raping minor girl in delhi end\n",
            "\n",
            "\n",
            "Review: there is no proposal under the of the human resource development ministry to set up university for minorities for pal singh said in response to written question in the rajya sabha however he said committee with view to educational development of minorities has recommended the of five national \n",
            "Original summary: start no proposal to set up university for minorities govt end \n",
            "Predicted summary:  start us to be in india end\n",
            "\n",
            "\n",
            "Review: senior air india pilot arvind who failed two tests before flight to london from new delhi has been removed as the national carrier operations director aviation regulator on monday suspended flying licence for three years he was earlier suspended for three months in 2017 for allegedly refusing to take tests \n",
            "Original summary: start air india pilot who failed alcohol tests removed as director end \n",
            "Predicted summary:  start us to get its first time in india end\n",
            "\n",
            "\n",
            "Review: the goods and services tax gst collection in november dropped to crore lower than the ã¢ââ¹1 lakh crore collected the previous month during the month improved with 69 6 lakh returns filed as on november 30 compared to 67 45 lakh returns in october so far gst for the current financial year are at ã¢ââ¹6 72 lakh crore \n",
            "Original summary: start gst drop below ã¢ââ¹1 lakh crore in november end \n",
            "Predicted summary:  start man arrested for raping minor girl in delhi end\n",
            "\n",
            "\n"
          ],
          "name": "stdout"
        }
      ]
    },
    {
      "cell_type": "code",
      "metadata": {
        "id": "roeUS3cQ3eCj",
        "colab_type": "code",
        "outputId": "fb25da25-0bd6-4de4-854f-d9abc39ea08e",
        "colab": {
          "base_uri": "https://localhost:8080/",
          "height": 34
        }
      },
      "source": [
        "#saving the model on the disk\n",
        "\n",
        "# serialize model to JSON\n",
        "model_json = model.to_json()\n",
        "with open(\"3_Project_2_TT_1dconv_reg.json\", \"w\") as json_file:\n",
        "    json_file.write(model_json)\n",
        "# serialize weights to HDF5\n",
        "model.save_weights(\"3_Project_2_TT_1dconv_reg.h5\")\n",
        "print(\"Saved model to disk\")"
      ],
      "execution_count": 41,
      "outputs": [
        {
          "output_type": "stream",
          "text": [
            "Saved model to disk\n"
          ],
          "name": "stdout"
        }
      ]
    },
    {
      "cell_type": "code",
      "metadata": {
        "id": "vHY-BsXd37P1",
        "colab_type": "code",
        "outputId": "bb63d355-9dc8-4835-9386-9eac69c9a112",
        "colab": {
          "base_uri": "https://localhost:8080/",
          "height": 52
        }
      },
      "source": [
        "from tensorflow.keras.models import model_from_json\n",
        "\n",
        "# load json and create model\n",
        "json_file = open('3_Project_2_TT_1dconv_reg.json', 'r')\n",
        "loaded_model_json = json_file.read()\n",
        "json_file.close()\n",
        "loaded_model = model_from_json(loaded_model_json)\n",
        "# load weights into new model\n",
        "loaded_model.load_weights(\"3_Project_2_TT_1dconv_reg.h5\")\n",
        "print(\"Loaded model from disk\")\n",
        " \n",
        "# evaluate loaded model on test data\n",
        "loaded_model.compile(loss='sparse_categorical_crossentropy', optimizer='Adam', metrics=['accuracy'])\n",
        "score = loaded_model.evaluate([x_val,y_val[:,:-1]], y_val.reshape(y_val.shape[0],y_val.shape[1], 1)[:,1:], verbose=0)\n",
        "print(\"%s: %.2f%%\" % (loaded_model.metrics_names[1], score[1]*100))"
      ],
      "execution_count": 40,
      "outputs": [
        {
          "output_type": "stream",
          "text": [
            "Loaded model from disk\n",
            "accuracy: 84.73%\n"
          ],
          "name": "stdout"
        }
      ]
    }
  ]
}